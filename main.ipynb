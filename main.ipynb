{
 "cells": [
  {
   "cell_type": "code",
   "execution_count": 1,
   "id": "1cd6095a",
   "metadata": {},
   "outputs": [
    {
     "name": "stderr",
     "output_type": "stream",
     "text": [
      "C:\\Users\\Suhani Rajangaonkar\\AppData\\Roaming\\Python\\Python310\\site-packages\\tqdm\\auto.py:21: TqdmWarning: IProgress not found. Please update jupyter and ipywidgets. See https://ipywidgets.readthedocs.io/en/stable/user_install.html\n",
      "  from .autonotebook import tqdm as notebook_tqdm\n"
     ]
    }
   ],
   "source": [
    "import clip\n",
    "import torch\n",
    "import random\n",
    "import spacy\n",
    "import numpy as np\n",
    "from PIL import Image\n",
    "import matplotlib.pyplot as plt\n",
    "import torchvision.transforms as T\n",
    "import ast\n",
    "import torch\n",
    "import os \n",
    "from PIL import Image\n",
    "from diffusers import StableDiffusionPipeline\n",
    "from transformers import CLIPProcessor, CLIPModel\n",
    "from groq import Groq  # Assuming Groq has an OpenAI-compatible client"
   ]
  },
  {
   "cell_type": "code",
   "execution_count": 2,
   "id": "310ac394",
   "metadata": {},
   "outputs": [],
   "source": [
    "# === Load CLIP Model ===\n",
    "device = \"cuda\" if torch.cuda.is_available() else \"cpu\"\n",
    "clip_model, clip_preprocess = clip.load(\"ViT-B/32\", device=device)"
   ]
  },
  {
   "cell_type": "code",
   "execution_count": 3,
   "id": "839708a3",
   "metadata": {},
   "outputs": [],
   "source": [
    "\n",
    "# Initialize the client with your API key\n",
    "client=Groq(api_key=\"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\")\n"
   ]
  },
  {
   "cell_type": "code",
   "execution_count": 4,
   "id": "2223a238",
   "metadata": {},
   "outputs": [
    {
     "name": "stderr",
     "output_type": "stream",
     "text": [
      "Loading pipeline components...: 100%|██████████| 7/7 [00:01<00:00,  6.95it/s]\n"
     ]
    }
   ],
   "source": [
    "# ----------- Set device for Stable Diffusion -----------\n",
    "device = \"cuda\" if torch.cuda.is_available() else \"cpu\"\n",
    "\n",
    "# ----------- Load Stable Diffusion XL base model -----------\n",
    "pipe = StableDiffusionPipeline.from_pretrained(\n",
    "    \"runwayml/stable-diffusion-v1-5\",\n",
    "    torch_dtype=torch.float16,\n",
    "    variant=\"fp16\",  # Use if you're on a GPU like NVIDIA RTX\n",
    "    use_safetensors=True\n",
    ").to(\"cuda\")  # or your `device`"
   ]
  },
  {
   "cell_type": "code",
   "execution_count": 5,
   "id": "e436e5bb",
   "metadata": {},
   "outputs": [],
   "source": [
    "NEGATIVE_PROMPT = (\n",
    "    \"blurry, deformed, ugly, bad anatomy, bad proportions, low quality, \"\n",
    "    \"mutated, out of frame, extra limbs, poorly drawn, jpeg artifacts, \"\n",
    "    \"text, watermark, signature\"\n",
    ")\n"
   ]
  },
  {
   "cell_type": "code",
   "execution_count": 6,
   "id": "746037c0",
   "metadata": {},
   "outputs": [],
   "source": [
    "prompt_a = \"dragon \"\n",
    "prompt_b = \"forest\" "
   ]
  },
  {
   "cell_type": "code",
   "execution_count": 16,
   "id": "b1b3d483",
   "metadata": {},
   "outputs": [
    {
     "name": "stdout",
     "output_type": "stream",
     "text": [
      "Weighted / Blended Prompts:\n",
      "α = prompt_0.3: A delicate (butterfly:1.7) (alights:1.0) on a intricately crafted (origami:1.2) (flower:1.7), its (petals:1.2) (unfolding:1.0) (gently:1.0).\n",
      "α = prompt_0.4: A (delicate:1.0) (butterfly:1.7) (rests:1.0) (on:1.0) (a:1.0) (intricately:1.0) (folded:1.0) (origami:1.0) (paper:1.2) (flower:1.7).\n",
      "α = prompt_0.5: A delicate (butterfly:1.7) with a (white:1.2) (face:1.7) lands on a (crumpled:1.0) (origami:1.0) (paper:1.7) on a (wooden:1.0) (table:1.2).\n",
      "α = prompt_0.6: A delicate (butterfly:1.7) lands on a intricately folded (origami:1.2) (paper:1.7) (sculpture:1.0) on a modern (desk:1.7).\n",
      "α = prompt_0.7: A delicate, clothed (person:1.7) gently holds an intricately (folded:1.0) (origami:1.2) (paper:1.2) (sculpture:1.7).\n"
     ]
    },
    {
     "name": "stderr",
     "output_type": "stream",
     "text": [
      "100%|██████████| 50/50 [00:10<00:00,  4.60it/s]\n"
     ]
    },
    {
     "name": "stdout",
     "output_type": "stream",
     "text": [
      "[prompt_0.3] Seed: 75054 | Score: 0.2492 | sim_A: 0.2181 | sim_B: 0.1945 | sim_blend: 0.3038\n"
     ]
    },
    {
     "name": "stderr",
     "output_type": "stream",
     "text": [
      "100%|██████████| 50/50 [00:10<00:00,  4.62it/s]\n"
     ]
    },
    {
     "name": "stdout",
     "output_type": "stream",
     "text": [
      "[prompt_0.3] Seed: 72296 | Score: 0.2606 | sim_A: 0.2165 | sim_B: 0.1890 | sim_blend: 0.3322\n"
     ]
    },
    {
     "name": "stderr",
     "output_type": "stream",
     "text": [
      "100%|██████████| 50/50 [00:10<00:00,  4.67it/s]\n"
     ]
    },
    {
     "name": "stdout",
     "output_type": "stream",
     "text": [
      "[prompt_0.3] Seed: 62770 | Score: 0.2641 | sim_A: 0.2488 | sim_B: 0.2055 | sim_blend: 0.3228\n"
     ]
    },
    {
     "name": "stderr",
     "output_type": "stream",
     "text": [
      "100%|██████████| 50/50 [00:10<00:00,  4.60it/s]\n"
     ]
    },
    {
     "name": "stdout",
     "output_type": "stream",
     "text": [
      "[prompt_0.4] Seed: 91633 | Score: 0.2597 | sim_A: 0.2335 | sim_B: 0.1890 | sim_blend: 0.3304\n"
     ]
    },
    {
     "name": "stderr",
     "output_type": "stream",
     "text": [
      "100%|██████████| 50/50 [00:10<00:00,  4.58it/s]\n"
     ]
    },
    {
     "name": "stdout",
     "output_type": "stream",
     "text": [
      "[prompt_0.4] Seed: 72784 | Score: 0.2404 | sim_A: 0.2286 | sim_B: 0.1784 | sim_blend: 0.3024\n"
     ]
    },
    {
     "name": "stderr",
     "output_type": "stream",
     "text": [
      "100%|██████████| 50/50 [00:10<00:00,  4.55it/s]\n"
     ]
    },
    {
     "name": "stdout",
     "output_type": "stream",
     "text": [
      "[prompt_0.4] Seed: 96646 | Score: 0.2507 | sim_A: 0.2214 | sim_B: 0.1902 | sim_blend: 0.3112\n"
     ]
    },
    {
     "name": "stderr",
     "output_type": "stream",
     "text": [
      "100%|██████████| 50/50 [00:10<00:00,  4.56it/s]\n"
     ]
    },
    {
     "name": "stdout",
     "output_type": "stream",
     "text": [
      "[prompt_0.5] Seed: 30854 | Score: 0.2563 | sim_A: 0.2245 | sim_B: 0.1816 | sim_blend: 0.3311\n"
     ]
    },
    {
     "name": "stderr",
     "output_type": "stream",
     "text": [
      "100%|██████████| 50/50 [00:10<00:00,  4.77it/s]\n"
     ]
    },
    {
     "name": "stdout",
     "output_type": "stream",
     "text": [
      "[prompt_0.5] Seed: 71759 | Score: 0.2678 | sim_A: 0.2340 | sim_B: 0.1932 | sim_blend: 0.3424\n"
     ]
    },
    {
     "name": "stderr",
     "output_type": "stream",
     "text": [
      "100%|██████████| 50/50 [00:10<00:00,  4.73it/s]\n"
     ]
    },
    {
     "name": "stdout",
     "output_type": "stream",
     "text": [
      "[prompt_0.5] Seed: 51903 | Score: 0.2531 | sim_A: 0.2162 | sim_B: 0.1785 | sim_blend: 0.3276\n"
     ]
    },
    {
     "name": "stderr",
     "output_type": "stream",
     "text": [
      "100%|██████████| 50/50 [00:10<00:00,  4.67it/s]\n"
     ]
    },
    {
     "name": "stdout",
     "output_type": "stream",
     "text": [
      "[prompt_0.6] Seed: 12108 | Score: 0.2655 | sim_A: 0.2219 | sim_B: 0.1929 | sim_blend: 0.3381\n"
     ]
    },
    {
     "name": "stderr",
     "output_type": "stream",
     "text": [
      "100%|██████████| 50/50 [00:10<00:00,  4.56it/s]\n"
     ]
    },
    {
     "name": "stdout",
     "output_type": "stream",
     "text": [
      "[prompt_0.6] Seed: 26317 | Score: 0.2542 | sim_A: 0.2287 | sim_B: 0.1879 | sim_blend: 0.3204\n"
     ]
    },
    {
     "name": "stderr",
     "output_type": "stream",
     "text": [
      "100%|██████████| 50/50 [00:10<00:00,  4.55it/s]\n"
     ]
    },
    {
     "name": "stdout",
     "output_type": "stream",
     "text": [
      "[prompt_0.6] Seed: 27881 | Score: 0.2762 | sim_A: 0.2160 | sim_B: 0.1942 | sim_blend: 0.3582\n"
     ]
    },
    {
     "name": "stderr",
     "output_type": "stream",
     "text": [
      "100%|██████████| 50/50 [00:10<00:00,  4.55it/s]\n"
     ]
    },
    {
     "name": "stdout",
     "output_type": "stream",
     "text": [
      "[prompt_0.7] Seed: 82985 | Score: 0.2550 | sim_A: 0.1985 | sim_B: 0.1870 | sim_blend: 0.3230\n"
     ]
    },
    {
     "name": "stderr",
     "output_type": "stream",
     "text": [
      "100%|██████████| 50/50 [00:10<00:00,  4.55it/s]\n"
     ]
    },
    {
     "name": "stdout",
     "output_type": "stream",
     "text": [
      "[prompt_0.7] Seed: 52040 | Score: 0.2480 | sim_A: 0.2236 | sim_B: 0.1794 | sim_blend: 0.3167\n"
     ]
    },
    {
     "name": "stderr",
     "output_type": "stream",
     "text": [
      "100%|██████████| 50/50 [00:11<00:00,  4.54it/s]\n",
      "Potential NSFW content was detected in one or more images. A black image will be returned instead. Try again with a different prompt and/or seed.\n"
     ]
    },
    {
     "name": "stdout",
     "output_type": "stream",
     "text": [
      "[prompt_0.7] Seed: 3371 | Score: 0.2194 | sim_A: 0.2361 | sim_B: 0.2272 | sim_blend: 0.2116\n"
     ]
    }
   ],
   "source": [
    "\n",
    "def combine_prompts_interactively(prompt_a, prompt_b, client):\n",
    "    \"\"\"\n",
    "    Combines two prompts into five blended prompts using LLaMA 3 model,\n",
    "    incorporating alpha weights between 0.4 and 0.6 to influence emphasis.\n",
    "\n",
    "    Parameters:\n",
    "        prompt_a (str): First input prompt \n",
    "        prompt_b (str): Second input prompt\n",
    "        client: Pre-authenticated OpenAI-style API client for llama3-70b-8192\n",
    "\n",
    "    Returns:\n",
    "        dict: Dictionary of prompts with keys like 'prompt_0.2', 'prompt_0.4', etc.\n",
    "    \"\"\"\n",
    "\n",
    "    system_prompt = (\n",
    "        \"You are a visual scene composer. Your job is to merge two image generation prompts \"\n",
    "        \"into a single, meaningful visual scene. Ensure that the subjects of both prompts interact \"\n",
    "        \"in a realistic and visually coherent way. \"\n",
    "        \"if the subject is a living -there should be no facial features like eyes ,nose or mouth,return a white face with no skeletal features\"\n",
    "        \"if subject is a person then he should be fully clothed in a modern attire, and All limbs, hands, and body proportions appear natural and anatomically correct,no extra limbs or hands,hair should be realistic  \"\n",
    "        \"Each time, emphasize one prompt more than the other using an alpha value between 0.4 and 0.6. Output a single descriptive sentence suitable for a text-to-image model. \"\n",
    "        \"keep less than 15 words\"\n",
    "        \"the image should be photorealistic,high resolution and aesthetic \"\n",
    "        \"avoid AI type ,blurry or cartoonish images\"\n",
    "        \"Return only the prompt. No explanations.\"\n",
    "    )\n",
    "\n",
    "    alphas = np.linspace(0.30, 0.70, 5)\n",
    "    prompt_dict = {}\n",
    "\n",
    "\n",
    "    for alpha in alphas:\n",
    "        alpha_rounded = round(alpha, 1)\n",
    "        user_prompt = (\n",
    "            f\"Prompt 1 (weight {1 - alpha_rounded:.1f}): {prompt_a}\\n\"\n",
    "            f\"Prompt 2 (weight {alpha_rounded:.1f}): {prompt_b}\\n\\n\"\n",
    "            \"Create one coherent prompt that blends them into an interactive visual scene, reflecting the given weights.\"\n",
    "        )\n",
    "\n",
    "        response = client.chat.completions.create(\n",
    "            model=\"llama3-70b-8192\",\n",
    "            messages=[\n",
    "                {\"role\": \"system\", \"content\": system_prompt},\n",
    "                {\"role\": \"user\", \"content\": user_prompt}\n",
    "            ],\n",
    "            temperature=0.7\n",
    "        )\n",
    "\n",
    "        combined_prompt = response.choices[0].message.content.strip()\n",
    "        var_name = f\"prompt_{alpha_rounded}\"\n",
    "        prompt_dict[var_name] = combined_prompt\n",
    "\n",
    "        \n",
    "        \n",
    "\n",
    "    return prompt_dict\n",
    "\n",
    "\n"
   ]
  },
  {
   "cell_type": "code",
   "execution_count": 8,
   "id": "fe94a276",
   "metadata": {},
   "outputs": [],
   "source": [
    "import ast\n",
    "import re\n",
    "\n",
    "def clean_and_parse_weights(raw_response):\n",
    "    # Attempt to extract the dictionary block\n",
    "    match = re.search(r'\\{[\\s\\S]+\\}', raw_response)\n",
    "    if not match:\n",
    "        raise ValueError(\"No dictionary found in response.\")\n",
    "\n",
    "    text = match.group(0)\n",
    "\n",
    "    # Fix common malformed patterns\n",
    "    text = text.replace('\":', '\": ')           # Ensure spacing after colons\n",
    "    text = text.replace('\",', '\", ')           # Ensure spacing after commas\n",
    "    text = re.sub(r'(\\d)\\s*\"}', r'\\1\"}', text) # Fix trailing number then quote\n",
    "    text = re.sub(r'\":\\s*([0-9.]+)\"', r'\": \\1', text)  # Fix numeric values wrapped in quotes\n",
    "    text = re.sub(r'([0-9.])\"([,\\}])', r'\\1\\2', text)  # Remove trailing quote after numbers\n",
    "\n",
    "    try:\n",
    "        parsed = ast.literal_eval(text)\n",
    "    except Exception as e:\n",
    "        raise ValueError(f\"Cleaned version still invalid: {e}\\nCleaned:\\n{text}\")\n",
    "\n",
    "    if not isinstance(parsed, dict) or \"Final Prompt\" not in parsed:\n",
    "        raise ValueError(f\"Structure incorrect. Parsed:\\n{parsed}\")\n",
    "\n",
    "    return parsed\n",
    "\n",
    "\n",
    "def get_token_weights(final_prompt, client):\n",
    "    user_prompt = f\"\"\"\n",
    "Extract the main subjects and objects from the prompt and \n",
    "assign:\n",
    "- 1.7 to subject and object \n",
    "- 1.2 to secondary subjects and objects \n",
    "- 1.0 to other important details\n",
    "\n",
    "\"Final Prompt\": {final_prompt}\n",
    "\n",
    "Respond ONLY with a valid Python dictionary in this format:\n",
    "{{\n",
    "  \"Final Prompt\": {{\"word1\": weight, \"word2\": weight, ...}}\n",
    "}}\n",
    "\n",
    "No explanations, no extra text.\n",
    "\"\"\"\n",
    "\n",
    "    response = client.chat.completions.create(\n",
    "        model=\"llama3-70b-8192\",\n",
    "        messages=[{\"role\": \"user\", \"content\": user_prompt}],\n",
    "        temperature=0.5,\n",
    "    )\n",
    "\n",
    "    raw_response = response.choices[0].message.content.strip()\n",
    "    try:\n",
    "        return clean_and_parse_weights(raw_response)\n",
    "    except Exception as e:\n",
    "        raise ValueError(f\"Failed to parse token weights: {e}\\nRaw response:\\n{raw_response}\")\n"
   ]
  },
  {
   "cell_type": "code",
   "execution_count": 9,
   "id": "278a4fa6",
   "metadata": {},
   "outputs": [
    {
     "name": "stdout",
     "output_type": "stream",
     "text": [
      "\n",
      "--- Token Weights per Blended Prompt ---\n",
      "\n",
      "prompt_0.3:\n",
      "{'Final Prompt': {'dragon': 1.7, 'body': 1.2, 'trunk': 1.2, 'tree': 1.2, 'wings': 1.7}}\n",
      "\n",
      "prompt_0.4:\n",
      "{'Final Prompt': {'dragon': 1.7, 'forest': 1.7, 'claws': 1.2, 'trunk': 1.2, 'misty': 1.0, 'vibrant': 1.0, 'serenely': 1.0}}\n",
      "\n",
      "prompt_0.5:\n",
      "{'Final Prompt': {'dragon': 1.7, 'forest': 1.7, 'scales': 1.2, 'shadow': 1.2, 'glistening': 1.0, 'vibrant': 1.0, 'gentle': 1.0, 'soars': 1.0, 'casting': 1.0, 'above': 1.0}}\n",
      "\n",
      "prompt_0.6:\n",
      "{'Final Prompt': {'dragon': 1.7, 'face': 1.2, 'trees': 1.2, 'scales': 1.2, 'forest': 1.0, 'white': 1.0, 'ancient': 1.0, 'lies': 1.0, 'camouflaged': 1.0, 'glistening': 1.0}}\n",
      "\n",
      "prompt_0.7:\n",
      "{'Final Prompt': {'dragon': 1.7, 'forest': 1.7, 'trees': 1.2, 'white-faced': 1.2, 'lush': 1.0, 'vibrant': 1.0, 'towering': 1.0, 'serenely': 1.0, 'amidst': 1.0, 'surrounded': 1.0}}\n",
      "\n"
     ]
    }
   ],
   "source": [
    "# Step 1: Generate combined prompts\n",
    "blended_prompts = combine_prompts_interactively(prompt_a, prompt_b, client)\n",
    "\n",
    "# Step 2: Extract token weights for each combined prompt\n",
    "weights_per_prompt = {}\n",
    "\n",
    "print(\"\\n--- Token Weights per Blended Prompt ---\\n\")\n",
    "\n",
    "for name, final_prompt in blended_prompts.items():\n",
    "    try:\n",
    "        weights = get_token_weights(final_prompt, client)\n",
    "        weights_per_prompt[name] = weights\n",
    "        print(f\"{name}:\\n{weights}\\n\")\n",
    "    except Exception as e:\n",
    "        print(f\"Failed to extract weights for {name}: {e}\\n\")\n",
    "\n"
   ]
  },
  {
   "cell_type": "code",
   "execution_count": 10,
   "id": "49c799a3",
   "metadata": {},
   "outputs": [
    {
     "name": "stdout",
     "output_type": "stream",
     "text": [
      "\n",
      "--- Weighted Prompts ---\n",
      "\n",
      "prompt_0.3:\n",
      "A majestic (dragon:1.7), its (body:1.2) subtly merged with the (trunk:1.2) of a giant forest (tree:1.2), stretches its (wings:1.7).\n",
      "\n",
      "prompt_0.4:\n",
      "A majestic, scale-covered (dragon:1.7) lies (serenely:1.0) amidst a (vibrant:1.0), (misty:1.0) (forest:1.7), its (claws:1.2) grasping a tree (trunk:1.2).\n",
      "\n",
      "prompt_0.5:\n",
      "A majestic (dragon:1.7), its (scales:1.2) (glistening:1.0), (soars:1.0) (above:1.0) a (vibrant:1.0) (forest:1.7), (casting:1.0) a (gentle:1.0) (shadow:1.2).\n",
      "\n",
      "prompt_0.6:\n",
      "A majestic (dragon:1.7), with a (white:1.0) (face:1.2), (lies:1.0) (camouflaged:1.0) among (ancient:1.0) (forest:1.0) (trees:1.2), its (scales:1.2) (glistening:1.0).\n",
      "\n",
      "prompt_0.7:\n",
      "A majestic (white-faced:1.2) (dragon:1.7) lies (serenely:1.0) (amidst:1.0) a (lush:1.0), (vibrant:1.0) (forest:1.7), (surrounded:1.0) by (towering:1.0) (trees:1.2).\n",
      "\n"
     ]
    }
   ],
   "source": [
    "import re\n",
    "\n",
    "def apply_weights(prompt, weights_dict):\n",
    "    for word, weight in weights_dict.items():\n",
    "        # Use regex to replace whole word only, case-sensitive\n",
    "        pattern = r'\\b' + re.escape(word) + r'\\b'\n",
    "        prompt = re.sub(pattern, f\"({word}:{weight})\", prompt)\n",
    "    return prompt\n",
    "\n",
    "# Step 3: Apply weights to each blended prompt\n",
    "weighted_prompts = {}\n",
    "\n",
    "print(\"\\n--- Weighted Prompts ---\\n\")\n",
    "\n",
    "for name, final_prompt in blended_prompts.items():\n",
    "    try:\n",
    "        token_weights = weights_per_prompt[name]\n",
    "        weighted_prompt = apply_weights(final_prompt, token_weights[\"Final Prompt\"])\n",
    "        weighted_prompts[name] = weighted_prompt\n",
    "        print(f\"{name}:\\n{weighted_prompt}\\n\")\n",
    "    except Exception as e:\n",
    "        print(f\"Failed to apply weights for {name}: {e}\\n\")\n",
    "\n"
   ]
  },
  {
   "cell_type": "code",
   "execution_count": 11,
   "id": "8cf03eb0",
   "metadata": {},
   "outputs": [
    {
     "data": {
      "text/plain": [
       "{'prompt_0.3': 'A majestic (dragon:1.7), its (body:1.2) subtly merged with the (trunk:1.2) of a giant forest (tree:1.2), stretches its (wings:1.7).',\n",
       " 'prompt_0.4': 'A majestic, scale-covered (dragon:1.7) lies (serenely:1.0) amidst a (vibrant:1.0), (misty:1.0) (forest:1.7), its (claws:1.2) grasping a tree (trunk:1.2).',\n",
       " 'prompt_0.5': 'A majestic (dragon:1.7), its (scales:1.2) (glistening:1.0), (soars:1.0) (above:1.0) a (vibrant:1.0) (forest:1.7), (casting:1.0) a (gentle:1.0) (shadow:1.2).',\n",
       " 'prompt_0.6': 'A majestic (dragon:1.7), with a (white:1.0) (face:1.2), (lies:1.0) (camouflaged:1.0) among (ancient:1.0) (forest:1.0) (trees:1.2), its (scales:1.2) (glistening:1.0).',\n",
       " 'prompt_0.7': 'A majestic (white-faced:1.2) (dragon:1.7) lies (serenely:1.0) (amidst:1.0) a (lush:1.0), (vibrant:1.0) (forest:1.7), (surrounded:1.0) by (towering:1.0) (trees:1.2).'}"
      ]
     },
     "execution_count": 11,
     "metadata": {},
     "output_type": "execute_result"
    }
   ],
   "source": [
    "weighted_prompts"
   ]
  },
  {
   "cell_type": "code",
   "execution_count": 12,
   "id": "749fdad8",
   "metadata": {},
   "outputs": [],
   "source": [
    "# === Encode Prompts Once ===\n",
    "def encode_texts(texts):\n",
    "    tokens = clip.tokenize(texts,truncate=True).to(device)\n",
    "    with torch.no_grad():\n",
    "        embeddings = clip_model.encode_text(tokens).float()\n",
    "        embeddings /= embeddings.norm(dim=-1, keepdim=True)\n",
    "    return embeddings\n",
    "\n",
    "base_embeddings = encode_texts([prompt_a, prompt_b])\n",
    "text_A, text_B = base_embeddings\n",
    "\n",
    "text_embeddings = {}  # Store embeddings per prompt\n",
    "\n",
    "for key, prompt in weighted_prompts.items():\n",
    "    embedding = encode_texts([prompt])[0]  # Single embedding\n",
    "    text_embeddings[key] = embedding"
   ]
  },
  {
   "cell_type": "code",
   "execution_count": 13,
   "id": "5e583fe1",
   "metadata": {},
   "outputs": [],
   "source": [
    "num_variants = 3\n",
    "guidance_scale = 7.5\n",
    "num_inference_steps = 50\n",
    "lambda_=0.6"
   ]
  },
  {
   "cell_type": "code",
   "execution_count": 14,
   "id": "834338fa",
   "metadata": {},
   "outputs": [],
   "source": [
    "def generate_and_score_all(weighted_prompts, num_variants=3, num_inference_steps=50, guidance_scale=7.5, lambda_=0.5):\n",
    "    all_results = {}\n",
    "    base_embeddings = encode_texts([prompt_a, prompt_b])\n",
    "    text_A, text_B = base_embeddings  # shape: [512]\n",
    "\n",
    "    for key, prompt in weighted_prompts.items():\n",
    "        # Encode current blended prompt\n",
    "        text_blend = encode_texts([prompt])[0]\n",
    "\n",
    "        best_score = -float(\"inf\")\n",
    "        best_image = None\n",
    "        best_seed = None\n",
    "\n",
    "        for _ in range(num_variants):\n",
    "            seed = random.randint(0, 100000)\n",
    "            generator = torch.Generator(device=device).manual_seed(seed)\n",
    "            image = pipe(\n",
    "                prompt,\n",
    "                num_inference_steps=num_inference_steps,\n",
    "                guidance_scale=guidance_scale,\n",
    "                generator=generator\n",
    "            ).images[0]\n",
    "\n",
    "            image_tensor = clip_preprocess(image).unsqueeze(0).to(device)\n",
    "            with torch.no_grad():\n",
    "                image_embed = clip_model.encode_image(image_tensor).float()\n",
    "                image_embed /= image_embed.norm(dim=-1, keepdim=True)\n",
    "\n",
    "                sim_A = (image_embed @ text_A.T).item()\n",
    "                sim_B = (image_embed @ text_B.T).item()\n",
    "                sim_blend = (image_embed @ text_blend.T).item()\n",
    "\n",
    "                final_score = lambda_ * sim_blend + (1 - lambda_) * min(sim_A, sim_B)\n",
    "\n",
    "            if final_score > best_score:\n",
    "                best_score = final_score\n",
    "                best_image = image\n",
    "                best_seed = seed\n",
    "\n",
    "            print(f\"[{key}] Seed: {seed} | Score: {final_score:.4f} | sim_A: {sim_A:.4f} | sim_B: {sim_B:.4f} | sim_blend: {sim_blend:.4f}\")\n",
    "\n",
    "        all_results[key] = {\n",
    "            \"image\": best_image,\n",
    "            \"seed\": best_seed,\n",
    "            \"score\": best_score\n",
    "        }\n",
    "\n",
    "    return all_results  # Dictionary: key -> best result for each prompt\n"
   ]
  },
  {
   "cell_type": "code",
   "execution_count": null,
   "id": "466a5b42",
   "metadata": {},
   "outputs": [
    {
     "name": "stdout",
     "output_type": "stream",
     "text": [
      "* Running on local URL:  http://127.0.0.1:7864\n",
      "* Running on public URL: https://c50fb537fe43a6f0a6.gradio.live\n",
      "\n",
      "This share link expires in 1 week. For free permanent hosting and GPU upgrades, run `gradio deploy` from the terminal in the working directory to deploy to Hugging Face Spaces (https://huggingface.co/spaces)\n"
     ]
    },
    {
     "data": {
      "text/html": [
       "<div><iframe src=\"https://c50fb537fe43a6f0a6.gradio.live\" width=\"100%\" height=\"500\" allow=\"autoplay; camera; microphone; clipboard-read; clipboard-write;\" frameborder=\"0\" allowfullscreen></iframe></div>"
      ],
      "text/plain": [
       "<IPython.core.display.HTML object>"
      ]
     },
     "metadata": {},
     "output_type": "display_data"
    },
    {
     "data": {
      "text/plain": []
     },
     "execution_count": 15,
     "metadata": {},
     "output_type": "execute_result"
    },
    {
     "name": "stdout",
     "output_type": "stream",
     "text": [
      "Weighted / Blended Prompts:\n",
      "α = prompt_0.3: A romantic (couple:1.7), fully clothed, (dance:1.0) in the (rain:1.0), (gazing:1.0) up at a fleeting (shooting star:1.7) (above:1.0).\n",
      "α = prompt_0.4: A (dancing:1.0) (couple:1.7), silhouetted against a (starry:1.0) (night:1.7) (sky:1.2) with a few (shooting:1.0) (stars:1.2).\n",
      "α = prompt_0.5: A fully clothed (couple:1.7), with white (faces:1.7), dance under a (rainy:1.0) (night:1.2) (sky:1.2), (stars:1.2) streaking above them.\n",
      "α = prompt_0.6: A (couple:1.7), with the (woman:1.7)'s (arm:1.2) outstretched, dances under a shooting (star:1.0)-filled (night sky:1.7), surrounded by (raindrops:1.2).\n",
      "α = prompt_0.7: A (couple:1.7), fully clothed, (twirls:1.0) in the (rain:1.2), (gazing:0) up at a (swirling:1.0) (vortex:1.7) of (shooting:1.0) (stars:1.2).\n"
     ]
    },
    {
     "name": "stderr",
     "output_type": "stream",
     "text": [
      "100%|██████████| 50/50 [00:11<00:00,  4.50it/s]\n",
      "C:\\Users\\Suhani Rajangaonkar\\AppData\\Local\\Temp\\ipykernel_22712\\1016584335.py:29: UserWarning: The use of `x.T` on tensors of dimension other than 2 to reverse their shape is deprecated and it will throw an error in a future release. Consider `x.mT` to transpose batches of matrices or `x.permute(*torch.arange(x.ndim - 1, -1, -1))` to reverse the dimensions of a tensor. (Triggered internally at C:\\actions-runner\\_work\\pytorch\\pytorch\\builder\\windows\\pytorch\\aten\\src\\ATen\\native\\TensorShape.cpp:3687.)\n",
      "  sim_A = (image_embed @ text_A.T).item()\n"
     ]
    },
    {
     "name": "stdout",
     "output_type": "stream",
     "text": [
      "[prompt_0.3] Seed: 53604 | Score: 0.2318 | sim_A: 0.1849 | sim_B: 0.1753 | sim_blend: 0.2884\n"
     ]
    },
    {
     "name": "stderr",
     "output_type": "stream",
     "text": [
      "100%|██████████| 50/50 [00:11<00:00,  4.37it/s]\n"
     ]
    },
    {
     "name": "stdout",
     "output_type": "stream",
     "text": [
      "[prompt_0.3] Seed: 77431 | Score: 0.2397 | sim_A: 0.1738 | sim_B: 0.1968 | sim_blend: 0.3056\n"
     ]
    },
    {
     "name": "stderr",
     "output_type": "stream",
     "text": [
      "100%|██████████| 50/50 [00:11<00:00,  4.33it/s]\n"
     ]
    },
    {
     "name": "stdout",
     "output_type": "stream",
     "text": [
      "[prompt_0.3] Seed: 31366 | Score: 0.2150 | sim_A: 0.1623 | sim_B: 0.1672 | sim_blend: 0.2677\n"
     ]
    },
    {
     "name": "stderr",
     "output_type": "stream",
     "text": [
      "100%|██████████| 50/50 [00:11<00:00,  4.38it/s]\n"
     ]
    },
    {
     "name": "stdout",
     "output_type": "stream",
     "text": [
      "[prompt_0.4] Seed: 1692 | Score: 0.2468 | sim_A: 0.1746 | sim_B: 0.1795 | sim_blend: 0.3189\n"
     ]
    },
    {
     "name": "stderr",
     "output_type": "stream",
     "text": [
      "100%|██████████| 50/50 [00:11<00:00,  4.34it/s]\n"
     ]
    },
    {
     "name": "stdout",
     "output_type": "stream",
     "text": [
      "[prompt_0.4] Seed: 89552 | Score: 0.2454 | sim_A: 0.1786 | sim_B: 0.1694 | sim_blend: 0.3215\n"
     ]
    },
    {
     "name": "stderr",
     "output_type": "stream",
     "text": [
      "100%|██████████| 50/50 [00:11<00:00,  4.31it/s]\n"
     ]
    },
    {
     "name": "stdout",
     "output_type": "stream",
     "text": [
      "[prompt_0.4] Seed: 66986 | Score: 0.2461 | sim_A: 0.1660 | sim_B: 0.1687 | sim_blend: 0.3263\n"
     ]
    },
    {
     "name": "stderr",
     "output_type": "stream",
     "text": [
      "100%|██████████| 50/50 [00:11<00:00,  4.38it/s]\n"
     ]
    },
    {
     "name": "stdout",
     "output_type": "stream",
     "text": [
      "[prompt_0.5] Seed: 58819 | Score: 0.2292 | sim_A: 0.1711 | sim_B: 0.1703 | sim_blend: 0.2881\n"
     ]
    },
    {
     "name": "stderr",
     "output_type": "stream",
     "text": [
      "100%|██████████| 50/50 [00:11<00:00,  4.41it/s]\n"
     ]
    },
    {
     "name": "stdout",
     "output_type": "stream",
     "text": [
      "[prompt_0.5] Seed: 27604 | Score: 0.2214 | sim_A: 0.1675 | sim_B: 0.1780 | sim_blend: 0.2753\n"
     ]
    },
    {
     "name": "stderr",
     "output_type": "stream",
     "text": [
      "100%|██████████| 50/50 [00:11<00:00,  4.39it/s]\n"
     ]
    },
    {
     "name": "stdout",
     "output_type": "stream",
     "text": [
      "[prompt_0.5] Seed: 90648 | Score: 0.2195 | sim_A: 0.1685 | sim_B: 0.1790 | sim_blend: 0.2705\n"
     ]
    },
    {
     "name": "stderr",
     "output_type": "stream",
     "text": [
      "100%|██████████| 50/50 [00:11<00:00,  4.32it/s]\n"
     ]
    },
    {
     "name": "stdout",
     "output_type": "stream",
     "text": [
      "[prompt_0.6] Seed: 89217 | Score: 0.2461 | sim_A: 0.1719 | sim_B: 0.1947 | sim_blend: 0.3203\n"
     ]
    },
    {
     "name": "stderr",
     "output_type": "stream",
     "text": [
      "100%|██████████| 50/50 [00:11<00:00,  4.50it/s]\n"
     ]
    },
    {
     "name": "stdout",
     "output_type": "stream",
     "text": [
      "[prompt_0.6] Seed: 66626 | Score: 0.2597 | sim_A: 0.1933 | sim_B: 0.1903 | sim_blend: 0.3290\n"
     ]
    },
    {
     "name": "stderr",
     "output_type": "stream",
     "text": [
      "100%|██████████| 50/50 [00:09<00:00,  5.09it/s]\n"
     ]
    },
    {
     "name": "stdout",
     "output_type": "stream",
     "text": [
      "[prompt_0.6] Seed: 25787 | Score: 0.2434 | sim_A: 0.1632 | sim_B: 0.1796 | sim_blend: 0.3235\n"
     ]
    },
    {
     "name": "stderr",
     "output_type": "stream",
     "text": [
      "100%|██████████| 50/50 [00:09<00:00,  5.15it/s]\n"
     ]
    },
    {
     "name": "stdout",
     "output_type": "stream",
     "text": [
      "[prompt_0.7] Seed: 24042 | Score: 0.2094 | sim_A: 0.1602 | sim_B: 0.1676 | sim_blend: 0.2586\n"
     ]
    },
    {
     "name": "stderr",
     "output_type": "stream",
     "text": [
      "100%|██████████| 50/50 [00:09<00:00,  5.15it/s]\n"
     ]
    },
    {
     "name": "stdout",
     "output_type": "stream",
     "text": [
      "[prompt_0.7] Seed: 39071 | Score: 0.2308 | sim_A: 0.1778 | sim_B: 0.1893 | sim_blend: 0.2837\n"
     ]
    },
    {
     "name": "stderr",
     "output_type": "stream",
     "text": [
      "100%|██████████| 50/50 [00:09<00:00,  5.16it/s]\n"
     ]
    },
    {
     "name": "stdout",
     "output_type": "stream",
     "text": [
      "[prompt_0.7] Seed: 90883 | Score: 0.2199 | sim_A: 0.1654 | sim_B: 0.1943 | sim_blend: 0.2745\n",
      "Weighted / Blended Prompts:\n",
      "α = prompt_0.3: An (astronaut:1.7) in a modern (scuba suit:1.7) stands knee-deep in calm, flowing (water:1.7) on a (sunny:1.0) (day:1.2).\n",
      "α = prompt_0.4: An (astronaut:1.7) in a (modern:1.0) (spacesuit:1.2) (kneels:1.0) (beside:1.0) a (flowing:1.0) (stream:1.7), (testing:1.0) (water:1.2) (quality:1.2).\n",
      "α = prompt_0.5: An (astronaut:1.7), fully clothed, kneels beside a flowing (stream:1.7), dipping (gloved:1.0) (hand:1.2) into the (water:1.2).\n",
      "α = prompt_0.6: An (astronaut:1.7) in a modern (spacesuit:1.7) (stands:1.2) (ankle-deep:1.0) in (flowing:1.0) (water:1.7), (gazing:1.2) (downward:1.0).\n",
      "α = prompt_0.7: An (astronaut:1.7) in a modern (scuba diving suit:1.2) (kneels:1.0) beside a flowing (waterfall:1.7), (observing:1.0) the (water:1.2).\n"
     ]
    },
    {
     "name": "stderr",
     "output_type": "stream",
     "text": [
      "100%|██████████| 50/50 [00:11<00:00,  4.54it/s]\n"
     ]
    },
    {
     "name": "stdout",
     "output_type": "stream",
     "text": [
      "[prompt_0.3] Seed: 86363 | Score: 0.2372 | sim_A: 0.1583 | sim_B: 0.1608 | sim_blend: 0.3161\n"
     ]
    },
    {
     "name": "stderr",
     "output_type": "stream",
     "text": [
      "100%|██████████| 50/50 [00:10<00:00,  4.62it/s]\n"
     ]
    },
    {
     "name": "stdout",
     "output_type": "stream",
     "text": [
      "[prompt_0.3] Seed: 72020 | Score: 0.2424 | sim_A: 0.1670 | sim_B: 0.1560 | sim_blend: 0.3288\n"
     ]
    },
    {
     "name": "stderr",
     "output_type": "stream",
     "text": [
      "100%|██████████| 50/50 [00:10<00:00,  4.60it/s]\n",
      "Token indices sequence length is longer than the specified maximum sequence length for this model (78 > 77). Running this sequence through the model will result in indexing errors\n",
      "The following part of your input was truncated because CLIP can only handle sequences up to 77 tokens: [').']\n"
     ]
    },
    {
     "name": "stdout",
     "output_type": "stream",
     "text": [
      "[prompt_0.3] Seed: 52393 | Score: 0.2314 | sim_A: 0.1685 | sim_B: 0.1856 | sim_blend: 0.2942\n"
     ]
    },
    {
     "name": "stderr",
     "output_type": "stream",
     "text": [
      "100%|██████████| 50/50 [00:10<00:00,  4.60it/s]\n",
      "The following part of your input was truncated because CLIP can only handle sequences up to 77 tokens: [').']\n"
     ]
    },
    {
     "name": "stdout",
     "output_type": "stream",
     "text": [
      "[prompt_0.4] Seed: 35889 | Score: 0.2223 | sim_A: 0.1706 | sim_B: 0.1412 | sim_blend: 0.3035\n"
     ]
    },
    {
     "name": "stderr",
     "output_type": "stream",
     "text": [
      "100%|██████████| 50/50 [00:10<00:00,  4.60it/s]\n",
      "The following part of your input was truncated because CLIP can only handle sequences up to 77 tokens: [').']\n"
     ]
    },
    {
     "name": "stdout",
     "output_type": "stream",
     "text": [
      "[prompt_0.4] Seed: 70153 | Score: 0.2004 | sim_A: 0.1730 | sim_B: 0.1381 | sim_blend: 0.2627\n"
     ]
    },
    {
     "name": "stderr",
     "output_type": "stream",
     "text": [
      "100%|██████████| 50/50 [00:10<00:00,  4.59it/s]\n"
     ]
    },
    {
     "name": "stdout",
     "output_type": "stream",
     "text": [
      "[prompt_0.4] Seed: 90820 | Score: 0.2099 | sim_A: 0.1666 | sim_B: 0.1444 | sim_blend: 0.2754\n"
     ]
    },
    {
     "name": "stderr",
     "output_type": "stream",
     "text": [
      "100%|██████████| 50/50 [00:10<00:00,  4.58it/s]\n"
     ]
    },
    {
     "name": "stdout",
     "output_type": "stream",
     "text": [
      "[prompt_0.5] Seed: 7859 | Score: 0.2457 | sim_A: 0.1795 | sim_B: 0.1933 | sim_blend: 0.3120\n"
     ]
    },
    {
     "name": "stderr",
     "output_type": "stream",
     "text": [
      "100%|██████████| 50/50 [00:10<00:00,  4.55it/s]\n"
     ]
    },
    {
     "name": "stdout",
     "output_type": "stream",
     "text": [
      "[prompt_0.5] Seed: 17913 | Score: 0.2045 | sim_A: 0.1779 | sim_B: 0.1461 | sim_blend: 0.2630\n"
     ]
    },
    {
     "name": "stderr",
     "output_type": "stream",
     "text": [
      "100%|██████████| 50/50 [00:11<00:00,  4.52it/s]\n"
     ]
    },
    {
     "name": "stdout",
     "output_type": "stream",
     "text": [
      "[prompt_0.5] Seed: 39377 | Score: 0.2574 | sim_A: 0.1930 | sim_B: 0.1927 | sim_blend: 0.3221\n"
     ]
    },
    {
     "name": "stderr",
     "output_type": "stream",
     "text": [
      "100%|██████████| 50/50 [00:10<00:00,  4.55it/s]\n"
     ]
    },
    {
     "name": "stdout",
     "output_type": "stream",
     "text": [
      "[prompt_0.6] Seed: 89455 | Score: 0.2235 | sim_A: 0.1768 | sim_B: 0.1601 | sim_blend: 0.2870\n"
     ]
    },
    {
     "name": "stderr",
     "output_type": "stream",
     "text": [
      "100%|██████████| 50/50 [00:10<00:00,  4.56it/s]\n"
     ]
    },
    {
     "name": "stdout",
     "output_type": "stream",
     "text": [
      "[prompt_0.6] Seed: 66127 | Score: 0.2179 | sim_A: 0.1681 | sim_B: 0.1428 | sim_blend: 0.2930\n"
     ]
    },
    {
     "name": "stderr",
     "output_type": "stream",
     "text": [
      "100%|██████████| 50/50 [00:10<00:00,  4.58it/s]\n"
     ]
    },
    {
     "name": "stdout",
     "output_type": "stream",
     "text": [
      "[prompt_0.6] Seed: 63046 | Score: 0.2540 | sim_A: 0.1944 | sim_B: 0.1655 | sim_blend: 0.3426\n"
     ]
    },
    {
     "name": "stderr",
     "output_type": "stream",
     "text": [
      "100%|██████████| 50/50 [00:10<00:00,  4.55it/s]\n"
     ]
    },
    {
     "name": "stdout",
     "output_type": "stream",
     "text": [
      "[prompt_0.7] Seed: 87893 | Score: 0.2376 | sim_A: 0.1710 | sim_B: 0.2049 | sim_blend: 0.3042\n"
     ]
    },
    {
     "name": "stderr",
     "output_type": "stream",
     "text": [
      "100%|██████████| 50/50 [00:11<00:00,  4.54it/s]\n"
     ]
    },
    {
     "name": "stdout",
     "output_type": "stream",
     "text": [
      "[prompt_0.7] Seed: 17735 | Score: 0.2478 | sim_A: 0.1650 | sim_B: 0.1905 | sim_blend: 0.3307\n"
     ]
    },
    {
     "name": "stderr",
     "output_type": "stream",
     "text": [
      "100%|██████████| 50/50 [00:11<00:00,  4.53it/s]\n"
     ]
    },
    {
     "name": "stdout",
     "output_type": "stream",
     "text": [
      "[prompt_0.7] Seed: 94774 | Score: 0.2435 | sim_A: 0.1667 | sim_B: 0.1722 | sim_blend: 0.3203\n",
      "Weighted / Blended Prompts:\n",
      "α = prompt_0.3: A (person:1.7) holding a (steaming:1.0) (cup:1.7), with a subtle (heart-shaped:1.0) (coffee:1.2) (foam:1.2) (design:1.2), against a (warm:1.0) (background:1.2).\n",
      "α = prompt_0.4: A (person:1.7), with a (white:1.0) (face:1.2), holding a (steaming:1.0) (cup:1.7) with a (heart:1.0)-shaped (foam:1.2) (design:1.0).\n",
      "α = prompt_0.5: A (person:1.7) holding a (steaming:1.0) (cup:1.7), with a (subtle:1.0), (glowing:1.0) (heart:1.2) symbol (above:1.0) the (coffee's:1.0) (vapors:1.2).\n",
      "α = prompt_0.6: A (person:1.7) holding a (steaming:1.0) (cup:1.7) with a (heart-shaped:1.0) (coffee:1.0) (foam:1.2) (design:1.2) on (top:1.0).\n",
      "α = prompt_0.7: A (person:1.7) with a (white:1.0) (face:1.2), holding a (steaming:1.0) (cup:1.7) with a (heart-shaped:1.0) (foam:1.2) design.\n"
     ]
    },
    {
     "name": "stderr",
     "output_type": "stream",
     "text": [
      "100%|██████████| 50/50 [00:10<00:00,  4.67it/s]\n"
     ]
    },
    {
     "name": "stdout",
     "output_type": "stream",
     "text": [
      "[prompt_0.3] Seed: 97159 | Score: 0.2345 | sim_A: 0.1826 | sim_B: 0.1768 | sim_blend: 0.2923\n"
     ]
    },
    {
     "name": "stderr",
     "output_type": "stream",
     "text": [
      "100%|██████████| 50/50 [00:10<00:00,  4.59it/s]\n"
     ]
    },
    {
     "name": "stdout",
     "output_type": "stream",
     "text": [
      "[prompt_0.3] Seed: 28312 | Score: 0.2396 | sim_A: 0.1738 | sim_B: 0.1609 | sim_blend: 0.3184\n"
     ]
    },
    {
     "name": "stderr",
     "output_type": "stream",
     "text": [
      "100%|██████████| 50/50 [00:10<00:00,  4.60it/s]\n"
     ]
    },
    {
     "name": "stdout",
     "output_type": "stream",
     "text": [
      "[prompt_0.3] Seed: 47687 | Score: 0.2303 | sim_A: 0.1673 | sim_B: 0.1619 | sim_blend: 0.2986\n"
     ]
    },
    {
     "name": "stderr",
     "output_type": "stream",
     "text": [
      "100%|██████████| 50/50 [00:10<00:00,  4.61it/s]\n"
     ]
    },
    {
     "name": "stdout",
     "output_type": "stream",
     "text": [
      "[prompt_0.4] Seed: 32697 | Score: 0.2182 | sim_A: 0.1690 | sim_B: 0.1547 | sim_blend: 0.2817\n"
     ]
    },
    {
     "name": "stderr",
     "output_type": "stream",
     "text": [
      "100%|██████████| 50/50 [00:10<00:00,  4.63it/s]\n"
     ]
    },
    {
     "name": "stdout",
     "output_type": "stream",
     "text": [
      "[prompt_0.4] Seed: 43494 | Score: 0.2146 | sim_A: 0.1676 | sim_B: 0.1444 | sim_blend: 0.2848\n"
     ]
    },
    {
     "name": "stderr",
     "output_type": "stream",
     "text": [
      "100%|██████████| 50/50 [00:10<00:00,  4.56it/s]\n"
     ]
    },
    {
     "name": "stdout",
     "output_type": "stream",
     "text": [
      "[prompt_0.4] Seed: 40516 | Score: 0.2326 | sim_A: 0.1793 | sim_B: 0.1503 | sim_blend: 0.3148\n"
     ]
    },
    {
     "name": "stderr",
     "output_type": "stream",
     "text": [
      "100%|██████████| 50/50 [00:10<00:00,  4.58it/s]\n"
     ]
    },
    {
     "name": "stdout",
     "output_type": "stream",
     "text": [
      "[prompt_0.5] Seed: 75680 | Score: 0.2188 | sim_A: 0.1628 | sim_B: 0.1365 | sim_blend: 0.3010\n"
     ]
    },
    {
     "name": "stderr",
     "output_type": "stream",
     "text": [
      "100%|██████████| 50/50 [00:10<00:00,  4.59it/s]\n"
     ]
    },
    {
     "name": "stdout",
     "output_type": "stream",
     "text": [
      "[prompt_0.5] Seed: 19389 | Score: 0.2191 | sim_A: 0.1851 | sim_B: 0.1584 | sim_blend: 0.2798\n"
     ]
    },
    {
     "name": "stderr",
     "output_type": "stream",
     "text": [
      "100%|██████████| 50/50 [00:10<00:00,  4.55it/s]\n"
     ]
    },
    {
     "name": "stdout",
     "output_type": "stream",
     "text": [
      "[prompt_0.5] Seed: 59577 | Score: 0.2236 | sim_A: 0.1850 | sim_B: 0.1610 | sim_blend: 0.2862\n"
     ]
    },
    {
     "name": "stderr",
     "output_type": "stream",
     "text": [
      "100%|██████████| 50/50 [00:11<00:00,  4.52it/s]\n"
     ]
    },
    {
     "name": "stdout",
     "output_type": "stream",
     "text": [
      "[prompt_0.6] Seed: 97138 | Score: 0.2237 | sim_A: 0.1759 | sim_B: 0.1582 | sim_blend: 0.2892\n"
     ]
    },
    {
     "name": "stderr",
     "output_type": "stream",
     "text": [
      "100%|██████████| 50/50 [00:11<00:00,  4.54it/s]\n"
     ]
    },
    {
     "name": "stdout",
     "output_type": "stream",
     "text": [
      "[prompt_0.6] Seed: 13860 | Score: 0.2453 | sim_A: 0.1617 | sim_B: 0.1601 | sim_blend: 0.3304\n"
     ]
    },
    {
     "name": "stderr",
     "output_type": "stream",
     "text": [
      "100%|██████████| 50/50 [00:10<00:00,  4.58it/s]\n"
     ]
    },
    {
     "name": "stdout",
     "output_type": "stream",
     "text": [
      "[prompt_0.6] Seed: 35382 | Score: 0.2354 | sim_A: 0.1694 | sim_B: 0.1548 | sim_blend: 0.3160\n"
     ]
    },
    {
     "name": "stderr",
     "output_type": "stream",
     "text": [
      "100%|██████████| 50/50 [00:11<00:00,  4.53it/s]\n"
     ]
    },
    {
     "name": "stdout",
     "output_type": "stream",
     "text": [
      "[prompt_0.7] Seed: 23808 | Score: 0.2264 | sim_A: 0.1663 | sim_B: 0.1662 | sim_blend: 0.2867\n"
     ]
    },
    {
     "name": "stderr",
     "output_type": "stream",
     "text": [
      "100%|██████████| 50/50 [00:10<00:00,  4.61it/s]\n"
     ]
    },
    {
     "name": "stdout",
     "output_type": "stream",
     "text": [
      "[prompt_0.7] Seed: 48379 | Score: 0.2134 | sim_A: 0.1467 | sim_B: 0.1357 | sim_blend: 0.2912\n"
     ]
    },
    {
     "name": "stderr",
     "output_type": "stream",
     "text": [
      "100%|██████████| 50/50 [00:09<00:00,  5.00it/s]\n"
     ]
    },
    {
     "name": "stdout",
     "output_type": "stream",
     "text": [
      "[prompt_0.7] Seed: 67830 | Score: 0.2205 | sim_A: 0.1759 | sim_B: 0.1497 | sim_blend: 0.2913\n",
      "Weighted / Blended Prompts:\n",
      "α = prompt_0.3: A majestic (phoenix:1.7) flies overhead, its radiant (plumage:1.2) illuminating a burning (house:1.7) below.\n",
      "α = prompt_0.4: A (phoenix:1.7) soars through the (sky:1.7), its radiant (plumage:1.2) illuminating the (darkening:1.0) (burning:1.0) (house:1.2).\n",
      "α = prompt_0.5: A (phoenix:1.7) soars overhead, its radiant (plumage:1.2) illuminating a (family:1.7) (flees:1.2) their (burning:1.2) (home:1.7).\n",
      "α = prompt_0.6: A majestic (phoenix:1.7), (wings:1.2) outstretched, swoops down towards a (burning:1.2) (modern:1.0) (house:1.7).\n",
      "α = prompt_0.7: A blazing (phoenix:1.7) soars above a raging (inferno:1.7), its fiery (plumage:1.2) illuminating the burning (house:1.2).\n"
     ]
    },
    {
     "name": "stderr",
     "output_type": "stream",
     "text": [
      "100%|██████████| 50/50 [00:10<00:00,  4.55it/s]\n"
     ]
    },
    {
     "name": "stdout",
     "output_type": "stream",
     "text": [
      "[prompt_0.3] Seed: 57245 | Score: 0.2695 | sim_A: 0.2607 | sim_B: 0.2124 | sim_blend: 0.3267\n"
     ]
    },
    {
     "name": "stderr",
     "output_type": "stream",
     "text": [
      "100%|██████████| 50/50 [00:10<00:00,  4.63it/s]\n"
     ]
    },
    {
     "name": "stdout",
     "output_type": "stream",
     "text": [
      "[prompt_0.3] Seed: 67271 | Score: 0.2527 | sim_A: 0.2402 | sim_B: 0.1733 | sim_blend: 0.3322\n"
     ]
    },
    {
     "name": "stderr",
     "output_type": "stream",
     "text": [
      "100%|██████████| 50/50 [00:10<00:00,  4.67it/s]\n"
     ]
    },
    {
     "name": "stdout",
     "output_type": "stream",
     "text": [
      "[prompt_0.3] Seed: 36808 | Score: 0.2483 | sim_A: 0.2323 | sim_B: 0.1766 | sim_blend: 0.3200\n"
     ]
    },
    {
     "name": "stderr",
     "output_type": "stream",
     "text": [
      "100%|██████████| 50/50 [00:10<00:00,  4.63it/s]\n"
     ]
    },
    {
     "name": "stdout",
     "output_type": "stream",
     "text": [
      "[prompt_0.4] Seed: 21944 | Score: 0.2423 | sim_A: 0.2380 | sim_B: 0.1753 | sim_blend: 0.3094\n"
     ]
    },
    {
     "name": "stderr",
     "output_type": "stream",
     "text": [
      "100%|██████████| 50/50 [00:10<00:00,  4.55it/s]\n"
     ]
    },
    {
     "name": "stdout",
     "output_type": "stream",
     "text": [
      "[prompt_0.4] Seed: 276 | Score: 0.2401 | sim_A: 0.2268 | sim_B: 0.1890 | sim_blend: 0.2912\n"
     ]
    },
    {
     "name": "stderr",
     "output_type": "stream",
     "text": [
      "100%|██████████| 50/50 [00:10<00:00,  4.59it/s]\n"
     ]
    },
    {
     "name": "stdout",
     "output_type": "stream",
     "text": [
      "[prompt_0.4] Seed: 82200 | Score: 0.2409 | sim_A: 0.2384 | sim_B: 0.1722 | sim_blend: 0.3097\n"
     ]
    },
    {
     "name": "stderr",
     "output_type": "stream",
     "text": [
      "100%|██████████| 50/50 [00:10<00:00,  4.58it/s]\n"
     ]
    },
    {
     "name": "stdout",
     "output_type": "stream",
     "text": [
      "[prompt_0.5] Seed: 59782 | Score: 0.2414 | sim_A: 0.2137 | sim_B: 0.1821 | sim_blend: 0.3006\n"
     ]
    },
    {
     "name": "stderr",
     "output_type": "stream",
     "text": [
      "100%|██████████| 50/50 [00:10<00:00,  4.58it/s]\n"
     ]
    },
    {
     "name": "stdout",
     "output_type": "stream",
     "text": [
      "[prompt_0.5] Seed: 8216 | Score: 0.2339 | sim_A: 0.2002 | sim_B: 0.1814 | sim_blend: 0.2864\n"
     ]
    },
    {
     "name": "stderr",
     "output_type": "stream",
     "text": [
      "100%|██████████| 50/50 [00:10<00:00,  4.58it/s]\n"
     ]
    },
    {
     "name": "stdout",
     "output_type": "stream",
     "text": [
      "[prompt_0.5] Seed: 33480 | Score: 0.2366 | sim_A: 0.2196 | sim_B: 0.1832 | sim_blend: 0.2900\n"
     ]
    },
    {
     "name": "stderr",
     "output_type": "stream",
     "text": [
      "100%|██████████| 50/50 [00:11<00:00,  4.54it/s]\n"
     ]
    },
    {
     "name": "stdout",
     "output_type": "stream",
     "text": [
      "[prompt_0.6] Seed: 49503 | Score: 0.2387 | sim_A: 0.2120 | sim_B: 0.1720 | sim_blend: 0.3055\n"
     ]
    },
    {
     "name": "stderr",
     "output_type": "stream",
     "text": [
      "100%|██████████| 50/50 [00:11<00:00,  4.55it/s]\n"
     ]
    },
    {
     "name": "stdout",
     "output_type": "stream",
     "text": [
      "[prompt_0.6] Seed: 51420 | Score: 0.2441 | sim_A: 0.2375 | sim_B: 0.1825 | sim_blend: 0.3057\n"
     ]
    },
    {
     "name": "stderr",
     "output_type": "stream",
     "text": [
      "100%|██████████| 50/50 [00:10<00:00,  4.58it/s]\n"
     ]
    },
    {
     "name": "stdout",
     "output_type": "stream",
     "text": [
      "[prompt_0.6] Seed: 73479 | Score: 0.2480 | sim_A: 0.2378 | sim_B: 0.1917 | sim_blend: 0.3044\n"
     ]
    },
    {
     "name": "stderr",
     "output_type": "stream",
     "text": [
      "100%|██████████| 50/50 [00:10<00:00,  4.58it/s]\n"
     ]
    },
    {
     "name": "stdout",
     "output_type": "stream",
     "text": [
      "[prompt_0.7] Seed: 25830 | Score: 0.2329 | sim_A: 0.2384 | sim_B: 0.1687 | sim_blend: 0.2971\n"
     ]
    },
    {
     "name": "stderr",
     "output_type": "stream",
     "text": [
      "100%|██████████| 50/50 [00:11<00:00,  4.54it/s]\n"
     ]
    },
    {
     "name": "stdout",
     "output_type": "stream",
     "text": [
      "[prompt_0.7] Seed: 51041 | Score: 0.2509 | sim_A: 0.2534 | sim_B: 0.1808 | sim_blend: 0.3209\n"
     ]
    },
    {
     "name": "stderr",
     "output_type": "stream",
     "text": [
      "100%|██████████| 50/50 [00:10<00:00,  4.57it/s]\n"
     ]
    },
    {
     "name": "stdout",
     "output_type": "stream",
     "text": [
      "[prompt_0.7] Seed: 52683 | Score: 0.2452 | sim_A: 0.2424 | sim_B: 0.1644 | sim_blend: 0.3259\n"
     ]
    }
   ],
   "source": [
    "\n",
    "\n",
    "import gradio as gr\n",
    "def generate_final_image(prompt1, prompt2):\n",
    "    # Step 1: Blend prompts\n",
    "    blended_prompts = combine_prompts_interactively(prompt1, prompt2, client)\n",
    "\n",
    "    # Step 2: Get token weights for each blended prompt\n",
    "    weights_dicts = {\n",
    "        k: get_token_weights(v, client)[\"Final Prompt\"]\n",
    "        for k, v in blended_prompts.items()\n",
    "    }\n",
    "\n",
    "    # Step 3: Apply weights to each prompt\n",
    "    weighted_prompts = {\n",
    "        k: apply_weights(blended_prompts[k], weights_dicts[k])\n",
    "        for k in blended_prompts\n",
    "    }\n",
    "\n",
    "    print(\"Weighted / Blended Prompts:\")\n",
    "    for k, v in weighted_prompts.items():\n",
    "        print(f\"α = {k}: {v}\")\n",
    "\n",
    "    # Step 4: Generate & score images\n",
    "    results = generate_and_score_all(\n",
    "        weighted_prompts,\n",
    "        num_variants=3,\n",
    "        num_inference_steps=50,\n",
    "        guidance_scale=7.5,\n",
    "        lambda_=0.5\n",
    "    )\n",
    "\n",
    "    # Step 5: Select best image\n",
    "    best_key = max(results, key=lambda k: results[k][\"score\"])\n",
    "    best_image = results[best_key][\"image\"]\n",
    "\n",
    "    return best_image\n",
    "\n",
    "\n",
    "# Launch Gradio interface\n",
    "iface = gr.Interface(\n",
    "    fn=generate_final_image,\n",
    "    inputs=[\n",
    "        gr.Textbox(label=\"Prompt 1\"),\n",
    "        gr.Textbox(label=\"Prompt 2\")\n",
    "    ],\n",
    "    outputs=gr.Image(type=\"pil\"),\n",
    "    title=\"Prompt Blending Image Generator\",\n",
    "    description=\"Enter two prompts. The system will blend them, generate multiple images, and return the best one.\"\n",
    ")\n",
    "\n",
    "iface.launch(share=True)"
   ]
  },
  {
   "cell_type": "code",
   "execution_count": null,
   "id": "47c245f3",
   "metadata": {},
   "outputs": [],
   "source": []
  }
 ],
 "metadata": {
  "kernelspec": {
   "display_name": "Python 3",
   "language": "python",
   "name": "python3"
  },
  "language_info": {
   "codemirror_mode": {
    "name": "ipython",
    "version": 3
   },
   "file_extension": ".py",
   "mimetype": "text/x-python",
   "name": "python",
   "nbconvert_exporter": "python",
   "pygments_lexer": "ipython3",
   "version": "3.10.0"
  }
 },
 "nbformat": 4,
 "nbformat_minor": 5
}
